{
  "nbformat": 4,
  "nbformat_minor": 0,
  "metadata": {
    "colab": {
      "provenance": []
    },
    "kernelspec": {
      "name": "python3",
      "display_name": "Python 3"
    },
    "language_info": {
      "name": "python"
    }
  },
  "cells": [
    {
      "cell_type": "code",
      "execution_count": null,
      "metadata": {
        "colab": {
          "base_uri": "https://localhost:8080/"
        },
        "id": "t9mhfUAd0NJg",
        "outputId": "fa303e78-5eb7-4c0d-a75a-907dfbef5f70"
      },
      "outputs": [
        {
          "output_type": "stream",
          "name": "stdout",
          "text": [
            "Enter a number : 5\n",
            "Enter a number : 12\n",
            "Max is 12\n"
          ]
        }
      ],
      "source": [
        "x = int(input(\"Enter a number : \"))\n",
        "y = int(input(\"Enter a number : \"))\n",
        "\n",
        "if y>x:\n",
        "  print(\"Max is\",y)\n",
        "else:\n",
        "  print(\"Max is\",x)"
      ]
    },
    {
      "cell_type": "code",
      "source": [
        "x = int(input(\"Enter a number : \"))\n",
        "\n",
        "if x>0:\n",
        "  print(\"Positive\")\n",
        "elif x==0:\n",
        "  print(\"zero\")\n",
        "else:\n",
        "  print(\"Negative\")"
      ],
      "metadata": {
        "colab": {
          "base_uri": "https://localhost:8080/"
        },
        "id": "4ad9ZrEpCXFR",
        "outputId": "062dd13e-75f1-4034-fd70-1220fb44bcdc"
      },
      "execution_count": null,
      "outputs": [
        {
          "output_type": "stream",
          "name": "stdout",
          "text": [
            "Enter a number : 9\n",
            "Positive\n"
          ]
        }
      ]
    },
    {
      "cell_type": "code",
      "source": [
        "x = int(input(\"Enter a number :\"))\n",
        "if x>0 and x<10 :\n",
        "  print(\"number between à and 10\")\n",
        "else:\n",
        "  print(\"something else\")\n"
      ],
      "metadata": {
        "colab": {
          "base_uri": "https://localhost:8080/"
        },
        "id": "c8-q-eD1HM2R",
        "outputId": "e45ae910-e0e2-4650-ac2d-4e4ddc63e4dc"
      },
      "execution_count": null,
      "outputs": [
        {
          "output_type": "stream",
          "name": "stdout",
          "text": [
            "Enter a number :9\n",
            "number between à and 10\n"
          ]
        }
      ]
    },
    {
      "cell_type": "code",
      "source": [
        "x = int(input(\"Enter your score : \"))\n",
        "if x<9 and x>0:\n",
        "  print(\"you fail\")\n",
        "elif x>=10 and x<14 :\n",
        "  print(\"you pass\")\n",
        "elif x>=15 and x<=20:\n",
        "  print(\"distinction\")\n",
        "elif x<0:\n",
        "  print(\"error\")\n",
        "else:\n",
        "  print(\"error\")\n"
      ],
      "metadata": {
        "colab": {
          "base_uri": "https://localhost:8080/"
        },
        "id": "1oAJuYWyH5v7",
        "outputId": "8ed683aa-e63b-426f-c92c-c03dc3ac2ddd"
      },
      "execution_count": null,
      "outputs": [
        {
          "output_type": "stream",
          "name": "stdout",
          "text": [
            "Enter your score : 20\n",
            "distinction\n"
          ]
        }
      ]
    },
    {
      "cell_type": "markdown",
      "source": [],
      "metadata": {
        "id": "F9DEDWIW3oAh"
      }
    }
  ]
}