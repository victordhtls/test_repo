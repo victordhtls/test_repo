{
  "cells": [
    {
      "cell_type": "code",
      "execution_count": null,
      "metadata": {
        "colab": {
          "background_save": true,
          "base_uri": "https://localhost:8080/",
          "height": 106
        },
        "id": "75KrABr1FXcb",
        "outputId": "29eaab16-d594-4289-878a-e4c971646021"
      },
      "outputs": [
        {
          "ename": "SyntaxError",
          "evalue": "expected ':' (<ipython-input-4-61f8b8e6153e>, line 11)",
          "output_type": "error",
          "traceback": [
            "\u001b[0;36m  File \u001b[0;32m\"<ipython-input-4-61f8b8e6153e>\"\u001b[0;36m, line \u001b[0;32m11\u001b[0m\n\u001b[0;31m    elif operation==\"/\" and num2!=0\u001b[0m\n\u001b[0m                                   ^\u001b[0m\n\u001b[0;31mSyntaxError\u001b[0m\u001b[0;31m:\u001b[0m expected ':'\n"
          ]
        }
      ],
      "source": [
        "num1 = float(input(\"Enter a number:\"))\n",
        "num2 = float(input(\"Enter a number:\"))\n",
        "operation = input(\"Enter a sign(+,-,*,/):\")\n",
        "\n",
        "if operation==\"+\":\n",
        "  print(\"num1+num2\")\n",
        "elif operation==\"-\":\n",
        "  print(\"num1-num2\")\n",
        "elif operation==\"*\":\n",
        "  print(\"num1*num2\")\n",
        "elif operation=='/   and num2!=0\n",
        "  print(num1/num2)\n",
        "else:\n",
        "  print(\"I do not support this yet\")"
      ]
    }
  ],
  "metadata": {
    "colab": {
      "provenance": []
    },
    "kernelspec": {
      "display_name": "Python 3",
      "name": "python3"
    },
    "language_info": {
      "name": "python"
    }
  },
  "nbformat": 4,
  "nbformat_minor": 0
}